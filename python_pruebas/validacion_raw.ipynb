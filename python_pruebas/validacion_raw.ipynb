{
 "cells": [
  {
   "cell_type": "markdown",
   "id": "7819ab83",
   "metadata": {},
   "source": [
    "## Validaciones RAW"
   ]
  },
  {
   "cell_type": "code",
   "execution_count": 18,
   "id": "281283ff",
   "metadata": {},
   "outputs": [
    {
     "name": "stdout",
     "output_type": "stream",
     "text": [
      "Expectativa: {\n",
      "  \"expectation_type\": \"expect_column_values_to_not_be_null\",\n",
      "  \"kwargs\": {\n",
      "    \"column\": \"id\",\n",
      "    \"mostly\": 1.0\n",
      "  },\n",
      "  \"meta\": {\n",
      "    \"notes\": \"El campo ID no debe contener valores nulos\",\n",
      "    \"stop_pipeline_on_failure\": true\n",
      "  }\n",
      "}\n",
      "Parámetros: None\n",
      "¿Cumple?: Sí\n",
      "Detalles: {'element_count': 500, 'unexpected_count': 0, 'unexpected_percent': 0.0, 'unexpected_percent_total': 0.0, 'partial_unexpected_list': []}\n",
      "--------------------------------------------------\n",
      "Expectativa: {\n",
      "  \"expectation_type\": \"expect_column_values_to_be_unique\",\n",
      "  \"kwargs\": {\n",
      "    \"column\": \"id\"\n",
      "  },\n",
      "  \"meta\": {\n",
      "    \"notes\": \"El campo ID debe contener valores \\u00c3\\u00banicos\",\n",
      "    \"stop_pipeline_on_failure\": true\n",
      "  }\n",
      "}\n",
      "Parámetros: None\n",
      "¿Cumple?: Sí\n",
      "Detalles: {'element_count': 500, 'missing_count': 0, 'missing_percent': 0.0, 'unexpected_count': 0, 'unexpected_percent': 0.0, 'unexpected_percent_total': 0.0, 'unexpected_percent_nonmissing': 0.0, 'partial_unexpected_list': []}\n",
      "--------------------------------------------------\n"
     ]
    }
   ],
   "source": [
    "import json\n",
    "import great_expectations as gx\n",
    "from great_expectations.core.expectation_suite import ExpectationSuite\n",
    "import pandas as pd\n",
    "\n",
    "# Ruta al archivo JSON de expectations\n",
    "FILE = \"raw/2025-07-12_20-22-34_articulos_espaciales_test.csv\"\n",
    "SUITE_PATH = \"expectations/raw_articles.json\"\n",
    "\n",
    "df = pd.read_csv(FILE, delimiter=\";\")\n",
    "\n",
    "# Cargar el JSON de expectations\n",
    "\n",
    "with open(SUITE_PATH, 'r') as f:\n",
    "    suite_dict = json.load(f)\n",
    "\n",
    "# Convertir el dict a un objeto suite de GX\n",
    "suite = ExpectationSuite(**suite_dict)\n",
    "# Crear un Validator de GX (con contexto de DataFrame)\n",
    "gx_df = gx.from_pandas(df)\n",
    "\n",
    "# Validar el DataFrame con las expectativas\n",
    "results = gx_df.validate(expectation_suite=suite)\n",
    "\n",
    "# Imprimir los resultados de la validación\n",
    "for r in results['results']:\n",
    "    print(\"Expectativa:\", r[\"expectation_config\"])\n",
    "    print(\"Parámetros:\", r.get(\"kwargs\"))\n",
    "    print(\"¿Cumple?:\", \"Sí\" if r[\"success\"] else \"No\")\n",
    "    print(\"Detalles:\", r[\"result\"])\n",
    "    print(\"-\" * 50)"
   ]
  },
  {
   "cell_type": "code",
   "execution_count": 24,
   "id": "ab96bb96",
   "metadata": {},
   "outputs": [],
   "source": [
    "import json\n",
    "import great_expectations as gx\n",
    "from great_expectations.core.expectation_suite import ExpectationSuite\n",
    "import pandas as pd\n",
    "\n",
    "\n",
    "def validate_csv_with_expectations(file, suite_path):\n",
    "    df = pd.read_csv(file, delimiter=\";\")\n",
    "\n",
    "    # Cargar el JSON de expectations\n",
    "\n",
    "    with open(suite_path, 'r') as f:\n",
    "        suite_dict = json.load(f)\n",
    "\n",
    "    # Convertir el dict a un objeto suite de GX\n",
    "    suite = ExpectationSuite(**suite_dict)\n",
    "    # Crear un Validator de GX (con contexto de DataFrame)\n",
    "    gx_df = gx.from_pandas(df)\n",
    "\n",
    "    # Validar el DataFrame con las expectativas\n",
    "    results = gx_df.validate(expectation_suite=suite)\n",
    "    # Imprimir los resultados de la validación\n",
    "    for r in results['results']:\n",
    "        print(\"Expectativa:\", r[\"expectation_config\"])\n",
    "        print(\"Parámetros:\", r.get(\"kwargs\"))\n",
    "        print(\"¿Cumple?:\", \"Sí\" if r[\"success\"] else \"No\")\n",
    "        print(\"Detalles:\", r[\"result\"])\n",
    "        if not r[\"success\"]:\n",
    "            raise ValueError(f\"Validation failed for expectation: {r['expectation_config']}\")\n",
    "        print(\"-\" * 50)"
   ]
  },
  {
   "cell_type": "code",
   "execution_count": 26,
   "id": "27b3c080",
   "metadata": {},
   "outputs": [],
   "source": [
    "FILE2 = \"staging/2025-07-12_20-39-59_articulos_espaciales_test.csv\"\n",
    "SUITE_PATH2 = \"expectations/staging_articles.json\"\n"
   ]
  },
  {
   "cell_type": "code",
   "execution_count": 28,
   "id": "e8c0cc1a",
   "metadata": {},
   "outputs": [
    {
     "name": "stdout",
     "output_type": "stream",
     "text": [
      "Expectativa: {\n",
      "  \"expectation_type\": \"expect_column_values_to_not_be_null\",\n",
      "  \"kwargs\": {\n",
      "    \"column\": \"id\"\n",
      "  },\n",
      "  \"meta\": {}\n",
      "}\n",
      "Parámetros: None\n",
      "¿Cumple?: Sí\n",
      "Detalles: {'element_count': 500, 'unexpected_count': 0, 'unexpected_percent': 0.0, 'unexpected_percent_total': 0.0, 'partial_unexpected_list': []}\n",
      "--------------------------------------------------\n",
      "Expectativa: {\n",
      "  \"expectation_type\": \"expect_column_values_to_be_unique\",\n",
      "  \"kwargs\": {\n",
      "    \"column\": \"id\"\n",
      "  },\n",
      "  \"meta\": {}\n",
      "}\n",
      "Parámetros: None\n",
      "¿Cumple?: Sí\n",
      "Detalles: {'element_count': 500, 'missing_count': 0, 'missing_percent': 0.0, 'unexpected_count': 0, 'unexpected_percent': 0.0, 'unexpected_percent_total': 0.0, 'unexpected_percent_nonmissing': 0.0, 'partial_unexpected_list': []}\n",
      "--------------------------------------------------\n",
      "Expectativa: {\n",
      "  \"expectation_type\": \"expect_column_values_to_match_strftime_format\",\n",
      "  \"kwargs\": {\n",
      "    \"column\": \"published_at\",\n",
      "    \"strftime_format\": \"%Y/%m/%d\"\n",
      "  },\n",
      "  \"meta\": {}\n",
      "}\n",
      "Parámetros: None\n",
      "¿Cumple?: No\n",
      "Detalles: {'element_count': 500, 'missing_count': 0, 'missing_percent': 0.0, 'unexpected_count': 500, 'unexpected_percent': 100.0, 'unexpected_percent_total': 100.0, 'unexpected_percent_nonmissing': 100.0, 'partial_unexpected_list': ['2018-10-05T22:00:00Z', '2018-09-12T22:00:00Z', '2018-08-05T22:00:00Z', '2018-09-28T22:00:00Z', '2018-10-12T22:00:00Z', '2018-09-16T22:00:00Z', '2018-09-11T22:00:00Z', '2018-10-15T22:00:00Z', '2018-10-16T22:00:00Z', '2018-09-10T22:00:00Z', '2018-10-09T22:00:00Z', '2018-09-15T22:00:00Z', '2018-10-02T22:00:00Z', '2018-10-02T22:00:00Z', '2018-10-15T22:00:00Z', '2018-09-17T22:00:00Z', '2018-09-23T22:00:00Z', '2018-09-13T22:00:00Z', '2018-09-20T22:00:00Z', '2018-09-28T22:00:00Z']}\n"
     ]
    },
    {
     "ename": "ValueError",
     "evalue": "Validation failed for expectation: {\n  \"expectation_type\": \"expect_column_values_to_match_strftime_format\",\n  \"kwargs\": {\n    \"column\": \"published_at\",\n    \"strftime_format\": \"%Y/%m/%d\"\n  },\n  \"meta\": {}\n}",
     "output_type": "error",
     "traceback": [
      "\u001b[31m---------------------------------------------------------------------------\u001b[39m",
      "\u001b[31mValueError\u001b[39m                                Traceback (most recent call last)",
      "\u001b[36mCell\u001b[39m\u001b[36m \u001b[39m\u001b[32mIn[28]\u001b[39m\u001b[32m, line 1\u001b[39m\n\u001b[32m----> \u001b[39m\u001b[32m1\u001b[39m \u001b[43mvalidate_csv_with_expectations\u001b[49m\u001b[43m(\u001b[49m\u001b[43mFILE2\u001b[49m\u001b[43m,\u001b[49m\u001b[43m \u001b[49m\u001b[43mSUITE_PATH2\u001b[49m\u001b[43m)\u001b[49m\n",
      "\u001b[36mCell\u001b[39m\u001b[36m \u001b[39m\u001b[32mIn[24]\u001b[39m\u001b[32m, line 29\u001b[39m, in \u001b[36mvalidate_csv_with_expectations\u001b[39m\u001b[34m(file, suite_path)\u001b[39m\n\u001b[32m     27\u001b[39m \u001b[38;5;28mprint\u001b[39m(\u001b[33m\"\u001b[39m\u001b[33mDetalles:\u001b[39m\u001b[33m\"\u001b[39m, r[\u001b[33m\"\u001b[39m\u001b[33mresult\u001b[39m\u001b[33m\"\u001b[39m])\n\u001b[32m     28\u001b[39m \u001b[38;5;28;01mif\u001b[39;00m \u001b[38;5;129;01mnot\u001b[39;00m r[\u001b[33m\"\u001b[39m\u001b[33msuccess\u001b[39m\u001b[33m\"\u001b[39m]:\n\u001b[32m---> \u001b[39m\u001b[32m29\u001b[39m     \u001b[38;5;28;01mraise\u001b[39;00m \u001b[38;5;167;01mValueError\u001b[39;00m(\u001b[33mf\u001b[39m\u001b[33m\"\u001b[39m\u001b[33mValidation failed for expectation: \u001b[39m\u001b[38;5;132;01m{\u001b[39;00mr[\u001b[33m'\u001b[39m\u001b[33mexpectation_config\u001b[39m\u001b[33m'\u001b[39m]\u001b[38;5;132;01m}\u001b[39;00m\u001b[33m\"\u001b[39m)\n\u001b[32m     30\u001b[39m \u001b[38;5;28mprint\u001b[39m(\u001b[33m\"\u001b[39m\u001b[33m-\u001b[39m\u001b[33m\"\u001b[39m * \u001b[32m50\u001b[39m)\n",
      "\u001b[31mValueError\u001b[39m: Validation failed for expectation: {\n  \"expectation_type\": \"expect_column_values_to_match_strftime_format\",\n  \"kwargs\": {\n    \"column\": \"published_at\",\n    \"strftime_format\": \"%Y/%m/%d\"\n  },\n  \"meta\": {}\n}"
     ]
    }
   ],
   "source": [
    "validate_csv_with_expectations(FILE2, SUITE_PATH2)"
   ]
  },
  {
   "cell_type": "code",
   "execution_count": null,
   "id": "e2f77a7e",
   "metadata": {},
   "outputs": [],
   "source": []
  }
 ],
 "metadata": {
  "kernelspec": {
   "display_name": "testenv",
   "language": "python",
   "name": "python3"
  },
  "language_info": {
   "codemirror_mode": {
    "name": "ipython",
    "version": 3
   },
   "file_extension": ".py",
   "mimetype": "text/x-python",
   "name": "python",
   "nbconvert_exporter": "python",
   "pygments_lexer": "ipython3",
   "version": "3.12.10"
  }
 },
 "nbformat": 4,
 "nbformat_minor": 5
}
